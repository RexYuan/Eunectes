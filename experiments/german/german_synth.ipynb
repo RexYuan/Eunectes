{
 "cells": [
  {
   "cell_type": "code",
   "execution_count": null,
   "metadata": {},
   "outputs": [],
   "source": [
    "import os\n",
    "import csv\n",
    "import math\n",
    "import itertools\n",
    "import pickle\n",
    "\n",
    "import pandas as pd\n",
    "pd.set_option('display.max_columns', None)\n",
    "import numpy as np\n",
    "import matplotlib.pyplot as plt\n",
    "%matplotlib inline\n",
    "from sklearn import preprocessing\n",
    "from scipy import sparse\n",
    "import networkx as nx\n",
    "\n",
    "from mbi import (\n",
    "    Dataset,\n",
    "    FactoredInference,\n",
    "    Domain,\n",
    "    LocalInference,\n",
    "    MixtureInference,\n",
    "    PublicInference,\n",
    ")"
   ]
  },
  {
   "cell_type": "code",
   "execution_count": null,
   "metadata": {},
   "outputs": [],
   "source": [
    "data = Dataset.load(\"./data/german_processed.csv\", \"./data/german_processed.json\")\n",
    "domain = data.domain\n",
    "total = data.df.shape[0]"
   ]
  },
  {
   "cell_type": "code",
   "execution_count": null,
   "metadata": {},
   "outputs": [],
   "source": [
    "# adapted from https://github.com/ryan112358/private-pgm/blob/master/examples/adult_example.py\n",
    "\n",
    "cliques = [('Credit amount', 'Duration'), ('Checking account', 'Credit amount'), ('Job', 'Credit amount'), ('Saving accounts', 'Credit amount'), ('Age', 'Housing'), ('Age', 'Duration'), ('Credit amount', 'Purpose'), ('Age', 'Credit amount'), ('Credit amount', 'Risk'), ('Sex', 'Credit amount'), ('Housing', 'Credit amount')]\n",
    "\n",
    "# spend half of privacy budget to measure all 1 way marginals\n",
    "np.random.seed(0)\n",
    "\n",
    "epsilon = 1.0\n",
    "epsilon_split = epsilon / (len(data.domain) + len(cliques))\n",
    "sigma = 2.0 / epsilon_split\n",
    "\n",
    "measurements = []\n",
    "for col in data.domain:\n",
    "    x = data.project(col).datavector()\n",
    "    y = x + np.random.laplace(loc=0, scale=sigma, size=x.size)\n",
    "    I = sparse.eye(x.size)\n",
    "    measurements.append((I, y, sigma, (col,)))\n",
    "\n",
    "# spend half of privacy budget to measure some more 2 and 3 way marginals\n",
    "for cl in cliques:\n",
    "    x = data.project(cl).datavector()\n",
    "    y = x + np.random.laplace(loc=0, scale=sigma, size=x.size)\n",
    "    I = sparse.eye(x.size)\n",
    "    measurements.append((I, y, sigma, cl))"
   ]
  },
  {
   "cell_type": "code",
   "execution_count": null,
   "metadata": {},
   "outputs": [],
   "source": [
    "# THIS TAKES ~400 MINUTES!\n",
    "engine = FactoredInference(domain, log=True, iters=500)\n",
    "model = engine.estimate(measurements, total=total)"
   ]
  },
  {
   "cell_type": "code",
   "execution_count": null,
   "metadata": {},
   "outputs": [],
   "source": [
    "# Save the model to a file\n",
    "# this is about 1.6GB\n",
    "with open('./model/german_synth.pkl', 'wb') as f:\n",
    "    pickle.dump(model, f)"
   ]
  },
  {
   "cell_type": "code",
   "execution_count": null,
   "metadata": {},
   "outputs": [],
   "source": [
    "# this takes around 1 seconds\n",
    "synth = model.synthetic_data(rows=1000)\n",
    "sdf = synth.df\n",
    "sdf"
   ]
  }
 ],
 "metadata": {
  "kernelspec": {
   "display_name": "mbi",
   "language": "python",
   "name": "python3"
  },
  "language_info": {
   "codemirror_mode": {
    "name": "ipython",
    "version": 3
   },
   "file_extension": ".py",
   "mimetype": "text/x-python",
   "name": "python",
   "nbconvert_exporter": "python",
   "pygments_lexer": "ipython3",
   "version": "3.13.0"
  }
 },
 "nbformat": 4,
 "nbformat_minor": 2
}
